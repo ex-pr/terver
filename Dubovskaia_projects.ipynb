{
 "cells": [
  {
   "cell_type": "markdown",
   "metadata": {},
   "source": [
    "Описательная статистика (статистические характеристики, графики, взаимосвязь величин, дисперсионный анализ).\n",
    "Проверить гипотезу: зарплаты администрации при президенте Обама (2009-2016г) в среднем такие же, как при Трампе (2017г). По годам расчитать основные статистические показатели: мода, медиана, квартили, дисперсию. Посмотреть изменение средних зарплат во времени."
   ]
  },
  {
   "cell_type": "code",
   "execution_count": 1,
   "metadata": {},
   "outputs": [],
   "source": [
    "import pandas as pd\n",
    "import numpy as np"
   ]
  },
  {
   "cell_type": "code",
   "execution_count": 356,
   "metadata": {},
   "outputs": [],
   "source": [
    "#Обама за период 2009-2016\n",
    "df1 = pd.read_csv('Obama.csv')\n",
    "df1 = df1.copy()\n",
    "#Трамп за 2017\n",
    "df2 = pd.read_csv('Tramp.csv')\n",
    "df2 = df2.copy()"
   ]
  },
  {
   "cell_type": "code",
   "execution_count": 357,
   "metadata": {},
   "outputs": [
    {
     "data": {
      "text/html": [
       "<div>\n",
       "<style scoped>\n",
       "    .dataframe tbody tr th:only-of-type {\n",
       "        vertical-align: middle;\n",
       "    }\n",
       "\n",
       "    .dataframe tbody tr th {\n",
       "        vertical-align: top;\n",
       "    }\n",
       "\n",
       "    .dataframe thead th {\n",
       "        text-align: right;\n",
       "    }\n",
       "</style>\n",
       "<table border=\"1\" class=\"dataframe\">\n",
       "  <thead>\n",
       "    <tr style=\"text-align: right;\">\n",
       "      <th></th>\n",
       "      <th>name</th>\n",
       "      <th>status</th>\n",
       "      <th>pay_basis</th>\n",
       "      <th>title</th>\n",
       "      <th>year</th>\n",
       "      <th>salary</th>\n",
       "    </tr>\n",
       "  </thead>\n",
       "  <tbody>\n",
       "    <tr>\n",
       "      <th>0</th>\n",
       "      <td>Abraham, Yohannes A.</td>\n",
       "      <td>Employee</td>\n",
       "      <td>Per Annum</td>\n",
       "      <td>LEGISLATIVE ASSISTANT AND ASSISTANT TO THE HOU...</td>\n",
       "      <td>2009</td>\n",
       "      <td>40000</td>\n",
       "    </tr>\n",
       "    <tr>\n",
       "      <th>1</th>\n",
       "      <td>Abrams, Adam W.</td>\n",
       "      <td>Employee</td>\n",
       "      <td>Per Annum</td>\n",
       "      <td>WESTERN REGIONAL COMMUNICATIONS DIRECTOR</td>\n",
       "      <td>2009</td>\n",
       "      <td>65000</td>\n",
       "    </tr>\n",
       "    <tr>\n",
       "      <th>2</th>\n",
       "      <td>Adams, Ian H.</td>\n",
       "      <td>Employee</td>\n",
       "      <td>Per Annum</td>\n",
       "      <td>EXECUTIVE ASSISTANT TO THE DIRECTOR OF SCHEDUL...</td>\n",
       "      <td>2009</td>\n",
       "      <td>36000</td>\n",
       "    </tr>\n",
       "    <tr>\n",
       "      <th>3</th>\n",
       "      <td>Agnew, David P.</td>\n",
       "      <td>Employee</td>\n",
       "      <td>Per Annum</td>\n",
       "      <td>DEPUTY DIRECTOR OF INTERGOVERNMENTAL AFFAIRS</td>\n",
       "      <td>2009</td>\n",
       "      <td>92000</td>\n",
       "    </tr>\n",
       "    <tr>\n",
       "      <th>4</th>\n",
       "      <td>Ahrens, Rebecca A.</td>\n",
       "      <td>Employee</td>\n",
       "      <td>Per Annum</td>\n",
       "      <td>OPERATOR</td>\n",
       "      <td>2009</td>\n",
       "      <td>42800</td>\n",
       "    </tr>\n",
       "  </tbody>\n",
       "</table>\n",
       "</div>"
      ],
      "text/plain": [
       "                   name    status  pay_basis  \\\n",
       "0  Abraham, Yohannes A.  Employee  Per Annum   \n",
       "1       Abrams, Adam W.  Employee  Per Annum   \n",
       "2         Adams, Ian H.  Employee  Per Annum   \n",
       "3       Agnew, David P.  Employee  Per Annum   \n",
       "4    Ahrens, Rebecca A.  Employee  Per Annum   \n",
       "\n",
       "                                               title  year  salary  \n",
       "0  LEGISLATIVE ASSISTANT AND ASSISTANT TO THE HOU...  2009   40000  \n",
       "1           WESTERN REGIONAL COMMUNICATIONS DIRECTOR  2009   65000  \n",
       "2  EXECUTIVE ASSISTANT TO THE DIRECTOR OF SCHEDUL...  2009   36000  \n",
       "3       DEPUTY DIRECTOR OF INTERGOVERNMENTAL AFFAIRS  2009   92000  \n",
       "4                                           OPERATOR  2009   42800  "
      ]
     },
     "execution_count": 357,
     "metadata": {},
     "output_type": "execute_result"
    }
   ],
   "source": [
    "df1.head()"
   ]
  },
  {
   "cell_type": "code",
   "execution_count": 358,
   "metadata": {},
   "outputs": [
    {
     "data": {
      "text/plain": [
       "2009    487\n",
       "2015    474\n",
       "2016    472\n",
       "2010    469\n",
       "2012    468\n",
       "2013    460\n",
       "2014    456\n",
       "2011    454\n",
       "Name: year, dtype: int64"
      ]
     },
     "execution_count": 358,
     "metadata": {},
     "output_type": "execute_result"
    }
   ],
   "source": [
    "df1['year'].value_counts()"
   ]
  },
  {
   "cell_type": "code",
   "execution_count": 359,
   "metadata": {},
   "outputs": [
    {
     "data": {
      "text/html": [
       "<div>\n",
       "<style scoped>\n",
       "    .dataframe tbody tr th:only-of-type {\n",
       "        vertical-align: middle;\n",
       "    }\n",
       "\n",
       "    .dataframe tbody tr th {\n",
       "        vertical-align: top;\n",
       "    }\n",
       "\n",
       "    .dataframe thead th {\n",
       "        text-align: right;\n",
       "    }\n",
       "</style>\n",
       "<table border=\"1\" class=\"dataframe\">\n",
       "  <thead>\n",
       "    <tr style=\"text-align: right;\">\n",
       "      <th></th>\n",
       "      <th>NAME</th>\n",
       "      <th>STATUS</th>\n",
       "      <th>PAY BASIS</th>\n",
       "      <th>POSITION TITLE</th>\n",
       "      <th>salary</th>\n",
       "    </tr>\n",
       "  </thead>\n",
       "  <tbody>\n",
       "    <tr>\n",
       "      <th>0</th>\n",
       "      <td>Alexander, Monica K.</td>\n",
       "      <td>Employee</td>\n",
       "      <td>Per Annum</td>\n",
       "      <td>EXECUTIVE ASSISTANT</td>\n",
       "      <td>56000</td>\n",
       "    </tr>\n",
       "    <tr>\n",
       "      <th>1</th>\n",
       "      <td>Ambrosini, Michael J.</td>\n",
       "      <td>Employee</td>\n",
       "      <td>Per Annum</td>\n",
       "      <td>SPECIAL ASSISTANT TO THE PRESIDENT AND DIRECTO...</td>\n",
       "      <td>95000</td>\n",
       "    </tr>\n",
       "    <tr>\n",
       "      <th>2</th>\n",
       "      <td>Amin, Stacy C.</td>\n",
       "      <td>Employee</td>\n",
       "      <td>Per Annum</td>\n",
       "      <td>SPECIAL ASSISTANT TO THE PRESIDENT AND ASSOCIA...</td>\n",
       "      <td>140000</td>\n",
       "    </tr>\n",
       "    <tr>\n",
       "      <th>3</th>\n",
       "      <td>Andersen, Whitney N.</td>\n",
       "      <td>Employee</td>\n",
       "      <td>Per Annum</td>\n",
       "      <td>DEPUTY DIRECTOR OF OPERATIONS FOR THE WHITE HO...</td>\n",
       "      <td>94000</td>\n",
       "    </tr>\n",
       "    <tr>\n",
       "      <th>4</th>\n",
       "      <td>Anderson, Alexander J.</td>\n",
       "      <td>Employee</td>\n",
       "      <td>Per Annum</td>\n",
       "      <td>DIRECTOR OF DIGITAL ENGAGEMENT</td>\n",
       "      <td>77000</td>\n",
       "    </tr>\n",
       "  </tbody>\n",
       "</table>\n",
       "</div>"
      ],
      "text/plain": [
       "                     NAME    STATUS  PAY BASIS  \\\n",
       "0    Alexander, Monica K.  Employee  Per Annum   \n",
       "1   Ambrosini, Michael J.  Employee  Per Annum   \n",
       "2          Amin, Stacy C.  Employee  Per Annum   \n",
       "3    Andersen, Whitney N.  Employee  Per Annum   \n",
       "4  Anderson, Alexander J.  Employee  Per Annum   \n",
       "\n",
       "                                      POSITION TITLE  salary  \n",
       "0                                EXECUTIVE ASSISTANT   56000  \n",
       "1  SPECIAL ASSISTANT TO THE PRESIDENT AND DIRECTO...   95000  \n",
       "2  SPECIAL ASSISTANT TO THE PRESIDENT AND ASSOCIA...  140000  \n",
       "3  DEPUTY DIRECTOR OF OPERATIONS FOR THE WHITE HO...   94000  \n",
       "4                     DIRECTOR OF DIGITAL ENGAGEMENT   77000  "
      ]
     },
     "execution_count": 359,
     "metadata": {},
     "output_type": "execute_result"
    }
   ],
   "source": [
    "df2.head()"
   ]
  },
  {
   "cell_type": "code",
   "execution_count": 360,
   "metadata": {},
   "outputs": [],
   "source": [
    "#Разобьем по годам df1 и выберем только столбец зарплат\n",
    "y2009 = df1.loc[df1['year']==2009, 'salary']\n",
    "y2010 = df1.loc[df1['year']==2010, 'salary']\n",
    "y2011 = df1.loc[df1['year']==2011, 'salary']\n",
    "y2012 = df1.loc[df1['year']==2012, 'salary']\n",
    "y2013 = df1.loc[df1['year']==2013, 'salary']\n",
    "y2014 = df1.loc[df1['year']==2014, 'salary']\n",
    "y2015 = df1.loc[df1['year']==2015, 'salary']\n",
    "y2016 = df1.loc[df1['year']==2016, 'salary']"
   ]
  },
  {
   "cell_type": "code",
   "execution_count": 361,
   "metadata": {},
   "outputs": [],
   "source": [
    "#Зарплата Обама за весь период\n",
    "y1 = df1['salary']\n",
    "#Зарплата Трамп за 2017 г.\n",
    "y2 = df2['salary']"
   ]
  },
  {
   "cell_type": "markdown",
   "metadata": {},
   "source": [
    "__1) Найдем выборочное среднее зарплат из датасета по формуле:__\n",
    "$$\\overline{x} = \\dfrac{1}{m} \\displaystyle\\sum_{i = 1}^m x_i.$$"
   ]
  },
  {
   "cell_type": "code",
   "execution_count": 362,
   "metadata": {},
   "outputs": [
    {
     "data": {
      "text/plain": [
       "82490.75721925133"
      ]
     },
     "execution_count": 362,
     "metadata": {},
     "output_type": "execute_result"
    }
   ],
   "source": [
    "#Обама за весь период\n",
    "#далее вычисления с помощью встроенных методов Python\n",
    "y1_mean = y1.mean()\n",
    "y1_mean"
   ]
  },
  {
   "cell_type": "code",
   "execution_count": 363,
   "metadata": {},
   "outputs": [
    {
     "data": {
      "text/plain": [
       "94872.0"
      ]
     },
     "execution_count": 363,
     "metadata": {},
     "output_type": "execute_result"
    }
   ],
   "source": [
    "#Трамп за 2017 г.\n",
    "y2_mean = y2.mean()\n",
    "y2_mean"
   ]
  },
  {
   "cell_type": "code",
   "execution_count": 364,
   "metadata": {},
   "outputs": [
    {
     "data": {
      "text/plain": [
       "(80384.43942505133,\n",
       " 82721.33688699361,\n",
       " 81765.33700440529,\n",
       " 80843.13888888889,\n",
       " 82303.86956521739,\n",
       " 82844.13377192983,\n",
       " 84864.12447257384,\n",
       " 84223.625)"
      ]
     },
     "execution_count": 364,
     "metadata": {},
     "output_type": "execute_result"
    }
   ],
   "source": [
    "#Обама за каждый год\n",
    "y2009_mean = y2009.mean()\n",
    "y2010_mean = y2010.mean()\n",
    "y2011_mean = y2011.mean()\n",
    "y2012_mean = y2012.mean()\n",
    "y2013_mean = y2013.mean()\n",
    "y2014_mean = y2014.mean()\n",
    "y2015_mean = y2015.mean()\n",
    "y2016_mean = y2016.mean()\n",
    "y2009_mean, y2010_mean, y2011_mean, y2012_mean, y2013_mean, y2014_mean, y2015_mean, y2016_mean"
   ]
  },
  {
   "cell_type": "code",
   "execution_count": 365,
   "metadata": {},
   "outputs": [],
   "source": [
    "#При Трампе в 2017 году заметен скачок средней зарплаты, по сравнению с 2016 г примерно на 12%\n",
    "#За 2009-2016 г не наблюдается линейного роста средней зарплаты."
   ]
  },
  {
   "cell_type": "markdown",
   "metadata": {},
   "source": [
    "__2)Cреднее квадратическое отклонение__ (уровень разброса элементов выборки относительно выборочного среднего):\n",
    "$$\\sigma = \\sqrt{\\dfrac{1}{m} \\displaystyle\\sum_{i = 1}^m (x_i - \\overline{x})^2}.$$"
   ]
  },
  {
   "cell_type": "code",
   "execution_count": 366,
   "metadata": {},
   "outputs": [
    {
     "data": {
      "text/plain": [
       "40076.48159623784"
      ]
     },
     "execution_count": 366,
     "metadata": {},
     "output_type": "execute_result"
    }
   ],
   "source": [
    "#Обама за весь период\n",
    "salary_std_1 = y1.std(ddof=0)\n",
    "salary_std_1"
   ]
  },
  {
   "cell_type": "code",
   "execution_count": 367,
   "metadata": {},
   "outputs": [
    {
     "data": {
      "text/plain": [
       "(41974.708684954356,\n",
       " 41545.07130638234,\n",
       " 40069.87696785488,\n",
       " 38934.23684876416,\n",
       " 39315.21100558181,\n",
       " 39164.68340598859,\n",
       " 40348.82518034289,\n",
       " 38812.06240640418)"
      ]
     },
     "execution_count": 367,
     "metadata": {},
     "output_type": "execute_result"
    }
   ],
   "source": [
    "#Обама за каждый год\n",
    "salary_std_2009 = y2009.std(ddof=0)\n",
    "salary_std_2010 = y2010.std(ddof=0)\n",
    "salary_std_2011 = y2011.std(ddof=0)\n",
    "salary_std_2012 = y2012.std(ddof=0)\n",
    "salary_std_2013 = y2013.std(ddof=0)\n",
    "salary_std_2014 = y2014.std(ddof=0)\n",
    "salary_std_2015 = y2015.std(ddof=0)\n",
    "salary_std_2016 = y2016.std(ddof=0)\n",
    "salary_std_2009, salary_std_2010, salary_std_2011, salary_std_2012,salary_std_2013, salary_std_2014, salary_std_2015, salary_std_2016, "
   ]
  },
  {
   "cell_type": "code",
   "execution_count": 368,
   "metadata": {},
   "outputs": [
    {
     "data": {
      "text/plain": [
       "43055.141660624526"
      ]
     },
     "execution_count": 368,
     "metadata": {},
     "output_type": "execute_result"
    }
   ],
   "source": [
    "#Трамп\n",
    "salary_std_2 = y2.std(ddof=0)\n",
    "salary_std_2"
   ]
  },
  {
   "cell_type": "markdown",
   "metadata": {},
   "source": [
    "__3)Cмещённая выборочная дисперсия__:\n",
    "\n",
    "$$\\sigma^2 = \\dfrac{1}{m} \\displaystyle\\sum_{i = 1}^m (x_i - \\overline{x})^2.$$"
   ]
  },
  {
   "cell_type": "code",
   "execution_count": 369,
   "metadata": {},
   "outputs": [
    {
     "data": {
      "text/plain": [
       "1606124377.1335907"
      ]
     },
     "execution_count": 369,
     "metadata": {},
     "output_type": "execute_result"
    }
   ],
   "source": [
    "#Обама за все время\n",
    "salary_variance_12 = y1.var(ddof=0)\n",
    "salary_variance_12"
   ]
  },
  {
   "cell_type": "code",
   "execution_count": 370,
   "metadata": {},
   "outputs": [
    {
     "data": {
      "text/plain": [
       "(1761876169.1867824,\n",
       " 1725992949.8523934,\n",
       " 1605595040.219027,\n",
       " 1515874798.9956646,\n",
       " 1545685816.4134212,\n",
       " 1533872426.2913177,\n",
       " 1628027693.4338722,\n",
       " 1506376188.2386122)"
      ]
     },
     "execution_count": 370,
     "metadata": {},
     "output_type": "execute_result"
    }
   ],
   "source": [
    "#Обама за каждый год\n",
    "salary_variance_2009_1 = y2009.var(ddof=0)\n",
    "salary_variance_2010_1 = y2010.var(ddof=0)\n",
    "salary_variance_2011_1 = y2011.var(ddof=0)\n",
    "salary_variance_2012_1 = y2012.var(ddof=0)\n",
    "salary_variance_2013_1 = y2013.var(ddof=0)\n",
    "salary_variance_2014_1 = y2014.var(ddof=0)\n",
    "salary_variance_2015_1 = y2015.var(ddof=0)\n",
    "salary_variance_2016_1 = y2016.var(ddof=0)\n",
    "salary_variance_2009_1, salary_variance_2010_1, salary_variance_2011_1, salary_variance_2012_1,salary_variance_2013_1, salary_variance_2014_1, salary_variance_2015_1, salary_variance_2016_1, "
   ]
  },
  {
   "cell_type": "code",
   "execution_count": 371,
   "metadata": {},
   "outputs": [
    {
     "data": {
      "text/plain": [
       "1853745223.4164457"
      ]
     },
     "execution_count": 371,
     "metadata": {},
     "output_type": "execute_result"
    }
   ],
   "source": [
    "#Трамп\n",
    "salary_variance_21 = y2.var(ddof=0)\n",
    "salary_variance_21"
   ]
  },
  {
   "cell_type": "markdown",
   "metadata": {},
   "source": [
    "__4)Несмещённая__ __выборочная дисперсия__ :\n",
    "\n",
    "$$\\sigma_{\\text{unbiased}}^2 = \\dfrac{1}{m - 1} \\displaystyle\\sum_{i = 1}^m (x_i - \\overline{x})^2.$$"
   ]
  },
  {
   "cell_type": "code",
   "execution_count": 372,
   "metadata": {},
   "outputs": [
    {
     "data": {
      "text/plain": [
       "1606553937.0097964"
      ]
     },
     "execution_count": 372,
     "metadata": {},
     "output_type": "execute_result"
    }
   ],
   "source": [
    "#Обама за все время\n",
    "salary_variance_22 = y1.var(ddof=1)\n",
    "salary_variance_22"
   ]
  },
  {
   "cell_type": "code",
   "execution_count": 373,
   "metadata": {},
   "outputs": [
    {
     "data": {
      "text/plain": [
       "(1765501428.7941625,\n",
       " 1729680968.9760096,\n",
       " 1609139400.1312103,\n",
       " 1519120783.5759552,\n",
       " 1549053323.6387227,\n",
       " 1537243574.480969,\n",
       " 1631469612.4474745,\n",
       " 1509574439.1690552)"
      ]
     },
     "execution_count": 373,
     "metadata": {},
     "output_type": "execute_result"
    }
   ],
   "source": [
    "#Обама за каждый год\n",
    "salary_variance_2009_2 = y2009.var(ddof=1)\n",
    "salary_variance_2010_2 = y2010.var(ddof=1)\n",
    "salary_variance_2011_2 = y2011.var(ddof=1)\n",
    "salary_variance_2012_2 = y2012.var(ddof=1)\n",
    "salary_variance_2013_2 = y2013.var(ddof=1)\n",
    "salary_variance_2014_2 = y2014.var(ddof=1)\n",
    "salary_variance_2015_2 = y2015.var(ddof=1)\n",
    "salary_variance_2016_2 = y2016.var(ddof=1)\n",
    "salary_variance_2009_2, salary_variance_2010_2, salary_variance_2011_2, salary_variance_2012_2,salary_variance_2013_2, salary_variance_2014_2, salary_variance_2015_2, salary_variance_2016_2"
   ]
  },
  {
   "cell_type": "code",
   "execution_count": 374,
   "metadata": {},
   "outputs": [
    {
     "data": {
      "text/plain": [
       "1858675396.8829787"
      ]
     },
     "execution_count": 374,
     "metadata": {},
     "output_type": "execute_result"
    }
   ],
   "source": [
    "#Трамп\n",
    "salary_variance_22 = y2.var(ddof=1)\n",
    "salary_variance_22"
   ]
  },
  {
   "cell_type": "markdown",
   "metadata": {},
   "source": [
    "__5)Посмотрим наиболее часто встречающиеся в выборках значения__:"
   ]
  },
  {
   "cell_type": "code",
   "execution_count": 375,
   "metadata": {},
   "outputs": [
    {
     "data": {
      "text/plain": [
       "0    42000\n",
       "dtype: int64"
      ]
     },
     "execution_count": 375,
     "metadata": {},
     "output_type": "execute_result"
    }
   ],
   "source": [
    "#Обама\n",
    "y1.mode()"
   ]
  },
  {
   "cell_type": "code",
   "execution_count": 376,
   "metadata": {},
   "outputs": [
    {
     "data": {
      "text/plain": [
       "array([36000, 42000, 42000, 42000, 42000, 42420, 42420, 50730],\n",
       "      dtype=int64)"
      ]
     },
     "execution_count": 376,
     "metadata": {},
     "output_type": "execute_result"
    }
   ],
   "source": [
    "#Обама за каждый год\n",
    "np.concatenate([y2009.mode(), y2010.mode(), y2011.mode(), y2012.mode(), y2013.mode(),y2014.mode(),y2015.mode(),y2016.mode()])"
   ]
  },
  {
   "cell_type": "code",
   "execution_count": 377,
   "metadata": {},
   "outputs": [
    {
     "data": {
      "text/plain": [
       "0    115000\n",
       "dtype: int64"
      ]
     },
     "execution_count": 377,
     "metadata": {},
     "output_type": "execute_result"
    }
   ],
   "source": [
    "#Трамп\n",
    "y2.mode()"
   ]
  },
  {
   "cell_type": "code",
   "execution_count": 388,
   "metadata": {},
   "outputs": [
    {
     "data": {
      "text/html": [
       "<div>\n",
       "<style scoped>\n",
       "    .dataframe tbody tr th:only-of-type {\n",
       "        vertical-align: middle;\n",
       "    }\n",
       "\n",
       "    .dataframe tbody tr th {\n",
       "        vertical-align: top;\n",
       "    }\n",
       "\n",
       "    .dataframe thead th {\n",
       "        text-align: right;\n",
       "    }\n",
       "</style>\n",
       "<table border=\"1\" class=\"dataframe\">\n",
       "  <thead>\n",
       "    <tr style=\"text-align: right;\">\n",
       "      <th></th>\n",
       "      <th>name</th>\n",
       "      <th>status</th>\n",
       "      <th>pay_basis</th>\n",
       "      <th>title</th>\n",
       "      <th>year</th>\n",
       "      <th>salary</th>\n",
       "    </tr>\n",
       "  </thead>\n",
       "  <tbody>\n",
       "    <tr>\n",
       "      <th>3276</th>\n",
       "      <td>Allen, Angelica P.</td>\n",
       "      <td>Employee</td>\n",
       "      <td>Per Annum</td>\n",
       "      <td>SPECIAL ASSISTANT TO THE DIRECTOR OF THE OFFIC...</td>\n",
       "      <td>2016</td>\n",
       "      <td>50730</td>\n",
       "    </tr>\n",
       "    <tr>\n",
       "      <th>3301</th>\n",
       "      <td>Bennett, Tabitha R.</td>\n",
       "      <td>Employee</td>\n",
       "      <td>Per Annum</td>\n",
       "      <td>PRESS LEAD</td>\n",
       "      <td>2016</td>\n",
       "      <td>50730</td>\n",
       "    </tr>\n",
       "    <tr>\n",
       "      <th>3302</th>\n",
       "      <td>Bentley, Lauren G.</td>\n",
       "      <td>Employee</td>\n",
       "      <td>Per Annum</td>\n",
       "      <td>PRESS LEAD</td>\n",
       "      <td>2016</td>\n",
       "      <td>50730</td>\n",
       "    </tr>\n",
       "    <tr>\n",
       "      <th>3309</th>\n",
       "      <td>Blume, Kolbie A.</td>\n",
       "      <td>Employee</td>\n",
       "      <td>Per Annum</td>\n",
       "      <td>SENIOR WRITER</td>\n",
       "      <td>2016</td>\n",
       "      <td>50730</td>\n",
       "    </tr>\n",
       "    <tr>\n",
       "      <th>3314</th>\n",
       "      <td>Bowerman, Heidi L.</td>\n",
       "      <td>Employee</td>\n",
       "      <td>Per Annum</td>\n",
       "      <td>ASSISTANT DIRECTOR FOR CONSTITUENT ENGAGEMENT ...</td>\n",
       "      <td>2016</td>\n",
       "      <td>50730</td>\n",
       "    </tr>\n",
       "  </tbody>\n",
       "</table>\n",
       "</div>"
      ],
      "text/plain": [
       "                     name    status  pay_basis  \\\n",
       "3276   Allen, Angelica P.  Employee  Per Annum   \n",
       "3301  Bennett, Tabitha R.  Employee  Per Annum   \n",
       "3302   Bentley, Lauren G.  Employee  Per Annum   \n",
       "3309     Blume, Kolbie A.  Employee  Per Annum   \n",
       "3314   Bowerman, Heidi L.  Employee  Per Annum   \n",
       "\n",
       "                                                  title  year  salary  \n",
       "3276  SPECIAL ASSISTANT TO THE DIRECTOR OF THE OFFIC...  2016   50730  \n",
       "3301                                         PRESS LEAD  2016   50730  \n",
       "3302                                         PRESS LEAD  2016   50730  \n",
       "3309                                      SENIOR WRITER  2016   50730  \n",
       "3314  ASSISTANT DIRECTOR FOR CONSTITUENT ENGAGEMENT ...  2016   50730  "
      ]
     },
     "execution_count": 388,
     "metadata": {},
     "output_type": "execute_result"
    }
   ],
   "source": [
    "df1.loc[(df1['salary']==50730)&(df1['year']==2016)].head()"
   ]
  },
  {
   "cell_type": "code",
   "execution_count": 398,
   "metadata": {},
   "outputs": [
    {
     "data": {
      "text/html": [
       "<div>\n",
       "<style scoped>\n",
       "    .dataframe tbody tr th:only-of-type {\n",
       "        vertical-align: middle;\n",
       "    }\n",
       "\n",
       "    .dataframe tbody tr th {\n",
       "        vertical-align: top;\n",
       "    }\n",
       "\n",
       "    .dataframe thead th {\n",
       "        text-align: right;\n",
       "    }\n",
       "</style>\n",
       "<table border=\"1\" class=\"dataframe\">\n",
       "  <thead>\n",
       "    <tr style=\"text-align: right;\">\n",
       "      <th></th>\n",
       "      <th>NAME</th>\n",
       "      <th>STATUS</th>\n",
       "      <th>PAY BASIS</th>\n",
       "      <th>POSITION TITLE</th>\n",
       "      <th>salary</th>\n",
       "    </tr>\n",
       "  </thead>\n",
       "  <tbody>\n",
       "    <tr>\n",
       "      <th>15</th>\n",
       "      <td>Berkowitz, Avrahm J.</td>\n",
       "      <td>Employee</td>\n",
       "      <td>Per Annum</td>\n",
       "      <td>SPECIAL ASSISTANT TO THE PRESIDENT AND ASSISTA...</td>\n",
       "      <td>115000</td>\n",
       "    </tr>\n",
       "    <tr>\n",
       "      <th>19</th>\n",
       "      <td>Blase, Brian C.</td>\n",
       "      <td>Employee</td>\n",
       "      <td>Per Annum</td>\n",
       "      <td>SPECIAL ASSISTANT TO THE PRESIDENT FOR ECONOMI...</td>\n",
       "      <td>115000</td>\n",
       "    </tr>\n",
       "    <tr>\n",
       "      <th>23</th>\n",
       "      <td>Bock, Caroline E.</td>\n",
       "      <td>Employee</td>\n",
       "      <td>Per Annum</td>\n",
       "      <td>SPECIAL ASSISTANT TO THE PRESIDENT AND ASSOCIA...</td>\n",
       "      <td>115000</td>\n",
       "    </tr>\n",
       "    <tr>\n",
       "      <th>24</th>\n",
       "      <td>Boney, Virginia M.</td>\n",
       "      <td>Employee</td>\n",
       "      <td>Per Annum</td>\n",
       "      <td>SPECIAL ASSISTANT TO THE PRESIDENT FOR LEGISLA...</td>\n",
       "      <td>115000</td>\n",
       "    </tr>\n",
       "    <tr>\n",
       "      <th>33</th>\n",
       "      <td>Bullock, Katja</td>\n",
       "      <td>Employee</td>\n",
       "      <td>Per Annum</td>\n",
       "      <td>SPECIAL ASSISTANT TO THE PRESIDENT AND ASSOCIA...</td>\n",
       "      <td>115000</td>\n",
       "    </tr>\n",
       "  </tbody>\n",
       "</table>\n",
       "</div>"
      ],
      "text/plain": [
       "                    NAME    STATUS  PAY BASIS  \\\n",
       "15  Berkowitz, Avrahm J.  Employee  Per Annum   \n",
       "19       Blase, Brian C.  Employee  Per Annum   \n",
       "23     Bock, Caroline E.  Employee  Per Annum   \n",
       "24    Boney, Virginia M.  Employee  Per Annum   \n",
       "33        Bullock, Katja  Employee  Per Annum   \n",
       "\n",
       "                                       POSITION TITLE  salary  \n",
       "15  SPECIAL ASSISTANT TO THE PRESIDENT AND ASSISTA...  115000  \n",
       "19  SPECIAL ASSISTANT TO THE PRESIDENT FOR ECONOMI...  115000  \n",
       "23  SPECIAL ASSISTANT TO THE PRESIDENT AND ASSOCIA...  115000  \n",
       "24  SPECIAL ASSISTANT TO THE PRESIDENT FOR LEGISLA...  115000  \n",
       "33  SPECIAL ASSISTANT TO THE PRESIDENT AND ASSOCIA...  115000  "
      ]
     },
     "execution_count": 398,
     "metadata": {},
     "output_type": "execute_result"
    }
   ],
   "source": [
    "df2.loc[df2['salary']==115000].head()"
   ]
  },
  {
   "cell_type": "code",
   "execution_count": 400,
   "metadata": {},
   "outputs": [
    {
     "data": {
      "text/html": [
       "<div>\n",
       "<style scoped>\n",
       "    .dataframe tbody tr th:only-of-type {\n",
       "        vertical-align: middle;\n",
       "    }\n",
       "\n",
       "    .dataframe tbody tr th {\n",
       "        vertical-align: top;\n",
       "    }\n",
       "\n",
       "    .dataframe thead th {\n",
       "        text-align: right;\n",
       "    }\n",
       "</style>\n",
       "<table border=\"1\" class=\"dataframe\">\n",
       "  <thead>\n",
       "    <tr style=\"text-align: right;\">\n",
       "      <th></th>\n",
       "      <th>name</th>\n",
       "      <th>status</th>\n",
       "      <th>pay_basis</th>\n",
       "      <th>title</th>\n",
       "      <th>year</th>\n",
       "      <th>salary</th>\n",
       "    </tr>\n",
       "  </thead>\n",
       "  <tbody>\n",
       "    <tr>\n",
       "      <th>3281</th>\n",
       "      <td>Anderson, Charles D.</td>\n",
       "      <td>Employee</td>\n",
       "      <td>Per Annum</td>\n",
       "      <td>SPECIAL ASSISTANT TO THE PRESIDENT FOR ECONOMI...</td>\n",
       "      <td>2016</td>\n",
       "      <td>110000</td>\n",
       "    </tr>\n",
       "    <tr>\n",
       "      <th>3442</th>\n",
       "      <td>Hanlon, Seth D.</td>\n",
       "      <td>Employee</td>\n",
       "      <td>Per Annum</td>\n",
       "      <td>SPECIAL ASSISTANT TO THE PRESIDENT FOR ECONOMI...</td>\n",
       "      <td>2016</td>\n",
       "      <td>121752</td>\n",
       "    </tr>\n",
       "    <tr>\n",
       "      <th>3443</th>\n",
       "      <td>Harris, Adrienne A.</td>\n",
       "      <td>Employee</td>\n",
       "      <td>Per Annum</td>\n",
       "      <td>SPECIAL ASSISTANT TO THE PRESIDENT FOR ECONOMI...</td>\n",
       "      <td>2016</td>\n",
       "      <td>121752</td>\n",
       "    </tr>\n",
       "    <tr>\n",
       "      <th>3485</th>\n",
       "      <td>Kelly, Elizabeth A.</td>\n",
       "      <td>Employee</td>\n",
       "      <td>Per Annum</td>\n",
       "      <td>SPECIAL ASSISTANT TO THE PRESIDENT FOR ECONOMI...</td>\n",
       "      <td>2016</td>\n",
       "      <td>111606</td>\n",
       "    </tr>\n",
       "    <tr>\n",
       "      <th>3618</th>\n",
       "      <td>Raynor, Jessica J.</td>\n",
       "      <td>Employee</td>\n",
       "      <td>Per Annum</td>\n",
       "      <td>SPECIAL ASSISTANT TO THE PRESIDENT FOR ECONOMI...</td>\n",
       "      <td>2016</td>\n",
       "      <td>121752</td>\n",
       "    </tr>\n",
       "  </tbody>\n",
       "</table>\n",
       "</div>"
      ],
      "text/plain": [
       "                      name    status  pay_basis  \\\n",
       "3281  Anderson, Charles D.  Employee  Per Annum   \n",
       "3442       Hanlon, Seth D.  Employee  Per Annum   \n",
       "3443   Harris, Adrienne A.  Employee  Per Annum   \n",
       "3485   Kelly, Elizabeth A.  Employee  Per Annum   \n",
       "3618    Raynor, Jessica J.  Employee  Per Annum   \n",
       "\n",
       "                                                  title  year  salary  \n",
       "3281  SPECIAL ASSISTANT TO THE PRESIDENT FOR ECONOMI...  2016  110000  \n",
       "3442  SPECIAL ASSISTANT TO THE PRESIDENT FOR ECONOMI...  2016  121752  \n",
       "3443  SPECIAL ASSISTANT TO THE PRESIDENT FOR ECONOMI...  2016  121752  \n",
       "3485  SPECIAL ASSISTANT TO THE PRESIDENT FOR ECONOMI...  2016  111606  \n",
       "3618  SPECIAL ASSISTANT TO THE PRESIDENT FOR ECONOMI...  2016  121752  "
      ]
     },
     "execution_count": 400,
     "metadata": {},
     "output_type": "execute_result"
    }
   ],
   "source": [
    "df1.loc[(df1['title']=='SPECIAL ASSISTANT TO THE PRESIDENT FOR ECONOMIC POLICY')&(df1['year']==2016)].head()"
   ]
  },
  {
   "cell_type": "code",
   "execution_count": null,
   "metadata": {},
   "outputs": [],
   "source": [
    "#SPECIAL ASSISTANT TO THE PRESIDENT при Обаме получали немного больше, но в штате их было меньше. \n",
    "#Поэтому чаще всего при Обаме встречается зарплата порядка $42000, а при Трампе $115000 (люди с такой зарплатой \n",
    "#работаю на должности SPECIAL ASSISTANT TO THE PRESIDENT)."
   ]
  },
  {
   "cell_type": "markdown",
   "metadata": {},
   "source": [
    "__6)Посчитаем медиану зарплат__ (ровно половина элементов из выборки меньше, либо равна 𝑎 (и, соответственно, ровно половина больше, либо равна 𝑎)):"
   ]
  },
  {
   "cell_type": "code",
   "execution_count": 261,
   "metadata": {},
   "outputs": [
    {
     "data": {
      "text/plain": [
       "70000.0"
      ]
     },
     "execution_count": 261,
     "metadata": {},
     "output_type": "execute_result"
    }
   ],
   "source": [
    "#Обама\n",
    "y1.median()"
   ]
  },
  {
   "cell_type": "code",
   "execution_count": 425,
   "metadata": {},
   "outputs": [
    {
     "data": {
      "text/plain": [
       "(65000.0, 66300.0, 69115.0, 65667.5, 70000.0, 70700.0, 70700.0, 73051.0)"
      ]
     },
     "execution_count": 425,
     "metadata": {},
     "output_type": "execute_result"
    }
   ],
   "source": [
    "#Обама за каждый год\n",
    "y2009.median(), y2010.median(), y2011.median(), y2012.median(), y2013.median(),y2014.median(),y2015.median(),y2016.median()"
   ]
  },
  {
   "cell_type": "code",
   "execution_count": 262,
   "metadata": {},
   "outputs": [
    {
     "data": {
      "text/plain": [
       "89000.0"
      ]
     },
     "execution_count": 262,
     "metadata": {},
     "output_type": "execute_result"
    }
   ],
   "source": [
    "#Трамп\n",
    "y2.median()"
   ]
  },
  {
   "cell_type": "code",
   "execution_count": null,
   "metadata": {},
   "outputs": [],
   "source": [
    "#Хотя средние зарплаты в период 2009-2016 г примерно находятся на одном уровне, по медиане мы видим, что больше людей \n",
    "#стали получать более высокие зарплаты,  в 2009 г 50% людей получали до $65000, а к 2016 году 50% людей стали \n",
    "#получать до $73000.\n",
    "#Нет серьезного разрыва между значениями медианы и выборочного среднего."
   ]
  },
  {
   "cell_type": "markdown",
   "metadata": {},
   "source": [
    "__7)Посчитаем первый и третий квантили:__"
   ]
  },
  {
   "cell_type": "code",
   "execution_count": 263,
   "metadata": {},
   "outputs": [
    {
     "data": {
      "text/plain": [
       "0.25     50000.0\n",
       "0.75    112774.0\n",
       "Name: salary, dtype: float64"
      ]
     },
     "execution_count": 263,
     "metadata": {},
     "output_type": "execute_result"
    }
   ],
   "source": [
    "#Обама\n",
    "y1.quantile([0.25, 0.75])\n",
    "#25% зарплат не превышают $50000\n",
    "#75% зарплат не превышают $112774\n",
    "#50% зарплат находятся в диапазоне $50000-$112774"
   ]
  },
  {
   "cell_type": "code",
   "execution_count": 264,
   "metadata": {},
   "outputs": [
    {
     "data": {
      "text/plain": [
       "0.25     56000.0\n",
       "0.75    119000.0\n",
       "Name: salary, dtype: float64"
      ]
     },
     "execution_count": 264,
     "metadata": {},
     "output_type": "execute_result"
    }
   ],
   "source": [
    "#Трамп\n",
    "y2.quantile([0.25, 0.75])\n",
    "#25% зарплат не превышают $56000\n",
    "#75% зарплат не превышают $119000\n",
    "#50% зарплат находятся в диапазоне $56000-$119000"
   ]
  },
  {
   "cell_type": "markdown",
   "metadata": {},
   "source": [
    "__8)Максимальная зарплата:__"
   ]
  },
  {
   "cell_type": "code",
   "execution_count": 265,
   "metadata": {},
   "outputs": [
    {
     "data": {
      "text/plain": [
       "225000"
      ]
     },
     "execution_count": 265,
     "metadata": {},
     "output_type": "execute_result"
    }
   ],
   "source": [
    "#Обама\n",
    "y1.max()"
   ]
  },
  {
   "cell_type": "code",
   "execution_count": 271,
   "metadata": {},
   "outputs": [
    {
     "data": {
      "text/plain": [
       "(192934, 179700, 172200, 172200, 225000, 172200, 173922, 176461)"
      ]
     },
     "execution_count": 271,
     "metadata": {},
     "output_type": "execute_result"
    }
   ],
   "source": [
    "#Обама за каждый год\n",
    "y2009.max(), y2010.max(), y2011.max(),y2012.max(), y2013.max(), y2014.max(), y2015.max(), y2016.max()"
   ]
  },
  {
   "cell_type": "code",
   "execution_count": 266,
   "metadata": {},
   "outputs": [
    {
     "data": {
      "text/plain": [
       "187100"
      ]
     },
     "execution_count": 266,
     "metadata": {},
     "output_type": "execute_result"
    }
   ],
   "source": [
    "#Трамп\n",
    "y2.max()"
   ]
  },
  {
   "cell_type": "code",
   "execution_count": 413,
   "metadata": {},
   "outputs": [
    {
     "data": {
      "text/html": [
       "<div>\n",
       "<style scoped>\n",
       "    .dataframe tbody tr th:only-of-type {\n",
       "        vertical-align: middle;\n",
       "    }\n",
       "\n",
       "    .dataframe tbody tr th {\n",
       "        vertical-align: top;\n",
       "    }\n",
       "\n",
       "    .dataframe thead th {\n",
       "        text-align: right;\n",
       "    }\n",
       "</style>\n",
       "<table border=\"1\" class=\"dataframe\">\n",
       "  <thead>\n",
       "    <tr style=\"text-align: right;\">\n",
       "      <th></th>\n",
       "      <th>name</th>\n",
       "      <th>status</th>\n",
       "      <th>pay_basis</th>\n",
       "      <th>title</th>\n",
       "      <th>year</th>\n",
       "      <th>salary</th>\n",
       "    </tr>\n",
       "  </thead>\n",
       "  <tbody>\n",
       "    <tr>\n",
       "      <th>2319</th>\n",
       "      <td>Wheeler, Seth F.</td>\n",
       "      <td>Detailee</td>\n",
       "      <td>Per Annum</td>\n",
       "      <td>SENIOR POLICY ADVISOR</td>\n",
       "      <td>2013</td>\n",
       "      <td>225000</td>\n",
       "    </tr>\n",
       "  </tbody>\n",
       "</table>\n",
       "</div>"
      ],
      "text/plain": [
       "                  name    status  pay_basis                  title  year  \\\n",
       "2319  Wheeler, Seth F.  Detailee  Per Annum  SENIOR POLICY ADVISOR  2013   \n",
       "\n",
       "      salary  \n",
       "2319  225000  "
      ]
     },
     "execution_count": 413,
     "metadata": {},
     "output_type": "execute_result"
    }
   ],
   "source": [
    "df1.loc[df1['salary']==225000]"
   ]
  },
  {
   "cell_type": "code",
   "execution_count": 402,
   "metadata": {},
   "outputs": [
    {
     "data": {
      "text/html": [
       "<div>\n",
       "<style scoped>\n",
       "    .dataframe tbody tr th:only-of-type {\n",
       "        vertical-align: middle;\n",
       "    }\n",
       "\n",
       "    .dataframe tbody tr th {\n",
       "        vertical-align: top;\n",
       "    }\n",
       "\n",
       "    .dataframe thead th {\n",
       "        text-align: right;\n",
       "    }\n",
       "</style>\n",
       "<table border=\"1\" class=\"dataframe\">\n",
       "  <thead>\n",
       "    <tr style=\"text-align: right;\">\n",
       "      <th></th>\n",
       "      <th>NAME</th>\n",
       "      <th>STATUS</th>\n",
       "      <th>PAY BASIS</th>\n",
       "      <th>POSITION TITLE</th>\n",
       "      <th>salary</th>\n",
       "    </tr>\n",
       "  </thead>\n",
       "  <tbody>\n",
       "    <tr>\n",
       "      <th>149</th>\n",
       "      <td>House, Mark S.</td>\n",
       "      <td>Detailee</td>\n",
       "      <td>Per Annum</td>\n",
       "      <td>SENIOR POLICY ADVISOR</td>\n",
       "      <td>187100</td>\n",
       "    </tr>\n",
       "  </tbody>\n",
       "</table>\n",
       "</div>"
      ],
      "text/plain": [
       "               NAME    STATUS  PAY BASIS         POSITION TITLE  salary\n",
       "149  House, Mark S.  Detailee  Per Annum  SENIOR POLICY ADVISOR  187100"
      ]
     },
     "execution_count": 402,
     "metadata": {},
     "output_type": "execute_result"
    }
   ],
   "source": [
    "df2.loc[df2['salary']==187100]"
   ]
  },
  {
   "cell_type": "code",
   "execution_count": null,
   "metadata": {},
   "outputs": [],
   "source": [
    "#При Трампе максимальную зарплату должности SENIOR POLICY ADVISOR сократили. При Обаме во все остальные года в основном\n",
    "#больше всего получала должность ASSISTANT TO THE PRESIDENT"
   ]
  },
  {
   "cell_type": "code",
   "execution_count": 288,
   "metadata": {},
   "outputs": [
    {
     "data": {
      "text/plain": [
       "<matplotlib.axes._subplots.AxesSubplot at 0x1f779292da0>"
      ]
     },
     "execution_count": 288,
     "metadata": {},
     "output_type": "execute_result"
    },
    {
     "data": {
      "image/png": "[encoded data removed]",
      "text/plain": [
       "<Figure size 432x288 with 1 Axes>"
      ]
     },
     "metadata": {
      "needs_background": "light"
     },
     "output_type": "display_data"
    }
   ],
   "source": [
    "y1.hist(bins=15)"
   ]
  },
  {
   "cell_type": "code",
   "execution_count": 287,
   "metadata": {},
   "outputs": [
    {
     "data": {
      "text/plain": [
       "<matplotlib.axes._subplots.AxesSubplot at 0x1f779298ef0>"
      ]
     },
     "execution_count": 287,
     "metadata": {},
     "output_type": "execute_result"
    },
    {
     "data": {
      "image/png": "[encoded data removed]",
      "text/plain": [
       "<Figure size 432x288 with 1 Axes>"
      ]
     },
     "metadata": {
      "needs_background": "light"
     },
     "output_type": "display_data"
    }
   ],
   "source": [
    "y2.hist(bins=15)"
   ]
  },
  {
   "cell_type": "markdown",
   "metadata": {},
   "source": [
    "__9)Посчитаем долю выброса:__"
   ]
  },
  {
   "cell_type": "code",
   "execution_count": 289,
   "metadata": {},
   "outputs": [
    {
     "data": {
      "text/plain": [
       "(-44161.0, 206935.0)"
      ]
     },
     "execution_count": 289,
     "metadata": {},
     "output_type": "execute_result"
    }
   ],
   "source": [
    "#Обама\n",
    "q1 = y1.quantile(0.25)\n",
    "q3 = y1.quantile(0.75)\n",
    "\n",
    "iqr = q3 - q1\n",
    "\n",
    "boxplot_range = (q1 - 1.5 * iqr, q3 + 1.5 * iqr)\n",
    "boxplot_range"
   ]
  },
  {
   "cell_type": "code",
   "execution_count": 290,
   "metadata": {},
   "outputs": [
    {
     "data": {
      "text/plain": [
       "1"
      ]
     },
     "execution_count": 290,
     "metadata": {},
     "output_type": "execute_result"
    }
   ],
   "source": [
    "outliers = df1.loc[(y1 < boxplot_range[0]) | (y1 > boxplot_range[1])]\n",
    "outliers.shape[0]"
   ]
  },
  {
   "cell_type": "code",
   "execution_count": 293,
   "metadata": {},
   "outputs": [
    {
     "data": {
      "text/plain": [
       "0.00026737967914438503"
      ]
     },
     "execution_count": 293,
     "metadata": {},
     "output_type": "execute_result"
    }
   ],
   "source": [
    "outliers.shape[0] / y1.shape[0]"
   ]
  },
  {
   "cell_type": "code",
   "execution_count": 294,
   "metadata": {},
   "outputs": [
    {
     "data": {
      "text/plain": [
       "(-38500.0, 213500.0)"
      ]
     },
     "execution_count": 294,
     "metadata": {},
     "output_type": "execute_result"
    }
   ],
   "source": [
    "#Трамп\n",
    "q1 = y2.quantile(0.25)\n",
    "q3 = y2.quantile(0.75)\n",
    "\n",
    "iqr = q3 - q1\n",
    "\n",
    "boxplot_range = (q1 - 1.5 * iqr, q3 + 1.5 * iqr)\n",
    "boxplot_range"
   ]
  },
  {
   "cell_type": "code",
   "execution_count": 295,
   "metadata": {},
   "outputs": [
    {
     "data": {
      "text/plain": [
       "0"
      ]
     },
     "execution_count": 295,
     "metadata": {},
     "output_type": "execute_result"
    }
   ],
   "source": [
    "outliers = df2.loc[(y2 < boxplot_range[0]) | (y2 > boxplot_range[1])]\n",
    "outliers.shape[0]"
   ]
  },
  {
   "cell_type": "code",
   "execution_count": 296,
   "metadata": {},
   "outputs": [
    {
     "data": {
      "text/plain": [
       "0.0"
      ]
     },
     "execution_count": 296,
     "metadata": {},
     "output_type": "execute_result"
    }
   ],
   "source": [
    "outliers.shape[0] / df1.shape[0]"
   ]
  },
  {
   "cell_type": "code",
   "execution_count": 414,
   "metadata": {},
   "outputs": [],
   "source": [
    "#В выборках нет выбросов"
   ]
  },
  {
   "cell_type": "markdown",
   "metadata": {},
   "source": [
    "__10)Проверить гипотезу о равенстве средних зарплат за каждый год:__"
   ]
  },
  {
   "cell_type": "markdown",
   "metadata": {},
   "source": [
    "1) $n$ общее число наблюдений:"
   ]
  },
  {
   "cell_type": "code",
   "execution_count": 297,
   "metadata": {},
   "outputs": [],
   "source": [
    "#за каждый год Обама\n",
    "n2009 = y2009.count()\n",
    "n2010 = y2010.count()\n",
    "n2011 = y2011.count()\n",
    "n2012 = y2012.count()\n",
    "n2013 = y2013.count()\n",
    "n2014 = y2014.count()\n",
    "n2015 = y2015.count()\n",
    "n2016 = y2016.count()"
   ]
  },
  {
   "cell_type": "code",
   "execution_count": 298,
   "metadata": {},
   "outputs": [],
   "source": [
    "#Трамп\n",
    "n2 = y2.count()"
   ]
  },
  {
   "cell_type": "markdown",
   "metadata": {},
   "source": [
    "2) Среднее от всей выборки:"
   ]
  },
  {
   "cell_type": "code",
   "execution_count": 299,
   "metadata": {},
   "outputs": [
    {
     "data": {
      "text/plain": [
       "83624.52659703667"
      ]
     },
     "execution_count": 299,
     "metadata": {},
     "output_type": "execute_result"
    }
   ],
   "source": [
    "y = np.concatenate([y2009, y2010, y2011, y2012, y2013, y2014, y2015, y2016, y2])\n",
    "y_mean = y.mean()\n",
    "y_mean"
   ]
  },
  {
   "cell_type": "markdown",
   "metadata": {},
   "source": [
    "3) Сумма квадратов отклонений средних групповых значений от общего среднего значения $\\overline{y}$:\n",
    "$$S_F^2 = \\displaystyle\\sum_{i=1}^k (\\overline{y}_i - \\overline{y})^2 n_i$$\n",
    "Остаточная сумма квадратов отклонений:\n",
    "$$S_{res}^{2} = \\displaystyle\\sum_{i=1}^k \\displaystyle\\sum_{j=1}^{n_i} (y_{ij} - \\overline{y}_i)^2.$$"
   ]
  },
  {
   "cell_type": "code",
   "execution_count": 212,
   "metadata": {},
   "outputs": [
    {
     "data": {
      "text/plain": [
       "60355391414.89724"
      ]
     },
     "execution_count": 212,
     "metadata": {},
     "output_type": "execute_result"
    }
   ],
   "source": [
    "S2_F = n2009*(y2009_mean-y_mean)**2+n2010*(y2010_mean-y_mean)**2+n2011*(y2011_mean-y_mean)**2+n2012*(y2012_mean-y_mean)**2+n2013*(y2013_mean-y_mean)**2+n2014*(y2014_mean-y_mean)**2+n2015*(y2015_mean-y_mean)**2+n2016*(y2016_mean-y_mean)**2+n2*(y2_mean-y_mean)**2\n",
    "S2_F"
   ]
  },
  {
   "cell_type": "code",
   "execution_count": 301,
   "metadata": {},
   "outputs": [
    {
     "data": {
      "text/plain": [
       "6697911880767.439"
      ]
     },
     "execution_count": 301,
     "metadata": {},
     "output_type": "execute_result"
    }
   ],
   "source": [
    "S2_res = ((y2009-y2009_mean)**2).sum()+((y2010-y2010_mean)**2).sum()+((y2011-y2011_mean)**2).sum()+((y2012-y2012_mean)**2).sum()+((y2013-y2013_mean)**2).sum()+((y2014-y2014_mean)**2).sum()+((y2015-y2015_mean)**2).sum()+((y2016-y2016_mean)**2).sum()+((y2-y2_mean)**2).sum()\n",
    "S2_res"
   ]
  },
  {
   "cell_type": "markdown",
   "metadata": {},
   "source": [
    "4) Сумма квадратов отклонений наблюдений от общего среднего:\n",
    "$$S^2 = \\displaystyle\\sum_{i=1}^{k} \\displaystyle\\sum_{j=1}^{n_i} ({y}_{ij} - \\overline{y})^2.$$\n",
    "Для этих значений должно быть справедливо равенство:\n",
    "$$S^2 = S_F^2 + S_{res}^2.$$"
   ]
  },
  {
   "cell_type": "code",
   "execution_count": 218,
   "metadata": {},
   "outputs": [
    {
     "data": {
      "text/plain": [
       "6758267272182.338"
      ]
     },
     "execution_count": 218,
     "metadata": {},
     "output_type": "execute_result"
    }
   ],
   "source": [
    "S_2 = ((y - y_mean) ** 2).sum()\n",
    "S_2"
   ]
  },
  {
   "cell_type": "code",
   "execution_count": 217,
   "metadata": {},
   "outputs": [
    {
     "data": {
      "text/plain": [
       "6758267272182.337"
      ]
     },
     "execution_count": 217,
     "metadata": {},
     "output_type": "execute_result"
    }
   ],
   "source": [
    "S2_F+S2_res"
   ]
  },
  {
   "cell_type": "markdown",
   "metadata": {},
   "source": [
    "5) Несмещённые оценки дисперсий:\n",
    "$$\\sigma_F^2 = \\dfrac{S_F^2}{k - 1}, \\: \\sigma_{res}^2 = \\dfrac{S_{res}^2}{n - k}.$$"
   ]
  },
  {
   "cell_type": "code",
   "execution_count": 219,
   "metadata": {},
   "outputs": [
    {
     "data": {
      "text/plain": [
       "(7544423926.862155, 1630455667.1780524)"
      ]
     },
     "execution_count": 219,
     "metadata": {},
     "output_type": "execute_result"
    }
   ],
   "source": [
    "k = 9\n",
    "n = n2009 + n2010 + n2011 + n2012 + n2013 + n2014 + n2015 + n2016 + n2\n",
    "\n",
    "k1 = k - 1\n",
    "k2 = n - k\n",
    "\n",
    "sigma2_F = S2_F / k1\n",
    "sigma2_res = S2_res / k2\n",
    "\n",
    "sigma2_F, sigma2_res"
   ]
  },
  {
   "cell_type": "markdown",
   "metadata": {},
   "source": [
    "6) Для проверки гипотезы $H_0$ запишем статистику\n",
    "$$T = \\dfrac{\\sigma_F^2}{\\sigma_{res}^2}.$$"
   ]
  },
  {
   "cell_type": "code",
   "execution_count": 220,
   "metadata": {},
   "outputs": [
    {
     "data": {
      "text/plain": [
       "4.627187404561472"
      ]
     },
     "execution_count": 220,
     "metadata": {},
     "output_type": "execute_result"
    }
   ],
   "source": [
    "T = sigma2_F / sigma2_res\n",
    "T"
   ]
  },
  {
   "cell_type": "markdown",
   "metadata": {},
   "source": [
    "Зафиксируем уровень значимости $\\alpha = 0.05$. Для него найдём критическое значение $F_{crit}$:"
   ]
  },
  {
   "cell_type": "code",
   "execution_count": 221,
   "metadata": {},
   "outputs": [
    {
     "data": {
      "text/plain": [
       "1.9406582344440286"
      ]
     },
     "execution_count": 221,
     "metadata": {},
     "output_type": "execute_result"
    }
   ],
   "source": [
    "from scipy import stats\n",
    "alpha = 0.05\n",
    "\n",
    "F_crit = stats.f.ppf(1 - alpha, k1, k2)\n",
    "F_crit"
   ]
  },
  {
   "cell_type": "markdown",
   "metadata": {},
   "source": [
    "Видим, что $T > F_{crit}$, гипотеза о равенстве средних зарплат отвергается. Отличие средних зарплат является статистически значимым."
   ]
  }
 ],
 "metadata": {
  "kernelspec": {
   "display_name": "Python 3",
   "language": "python",
   "name": "python3"
  },
  "language_info": {
   "codemirror_mode": {
    "name": "ipython",
    "version": 3
   },
   "file_extension": ".py",
   "mimetype": "text/x-python",
   "name": "python",
   "nbconvert_exporter": "python",
   "pygments_lexer": "ipython3",
   "version": "3.7.1"
  }
 },
 "nbformat": 4,
 "nbformat_minor": 2
}
