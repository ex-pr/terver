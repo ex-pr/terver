{
 "cells": [
  {
   "cell_type": "markdown",
   "metadata": {},
   "source": [
    "__Задача 1__\n",
    "\n",
    "Группа студентов изучает 10 различных дисциплин. Сколькими способами можно составить расписание на понедельник, если в этот день должно быть 4 разных занятия?"
   ]
  },
  {
   "cell_type": "code",
   "execution_count": 2,
   "metadata": {},
   "outputs": [
    {
     "name": "stdout",
     "output_type": "stream",
     "text": [
      "5040\n"
     ]
    }
   ],
   "source": [
    "import numpy as np\n",
    "n=10\n",
    "k=4\n",
    "#Число размещений из 𝑛 элементов по 𝑘 элементов, т.к. имеет значение порядок занятий. \n",
    "A_k_n = np.math.factorial(n) // np.math.factorial(n - k)\n",
    "print(A_k_n)"
   ]
  },
  {
   "cell_type": "markdown",
   "metadata": {},
   "source": [
    "__Задача 2__\n",
    "\n",
    "Из колоды в 52 карты вынимают случайным образом 4 карты. Найти число исходов, соответствующих тому, что был вытянут хотя бы один туз."
   ]
  },
  {
   "cell_type": "code",
   "execution_count": 7,
   "metadata": {},
   "outputs": [],
   "source": [
    "#Число сочетаний\n",
    "def combinations(n,k):\n",
    "    return np.math.factorial(n) // (np.math.factorial(k) * np.math.factorial(n - k))"
   ]
  },
  {
   "cell_type": "code",
   "execution_count": 12,
   "metadata": {},
   "outputs": [
    {
     "name": "stdout",
     "output_type": "stream",
     "text": [
      "76145\n"
     ]
    }
   ],
   "source": [
    "#Среди 4-х взятых карт хотябы одна туз, т.е. или 1, или 2, или 3, или 4 туза. \n",
    "#Применив правила суммы и произведения, найдем число таких исходов\n",
    "m = combinations(4,1)*combinations(48,3) + combinations(4,2)*combinations(48,2) + combinations(4,3)*combinations(48,1) + combinations(4,4)*combinations(48,0)\n",
    "print(m)"
   ]
  },
  {
   "cell_type": "markdown",
   "metadata": {},
   "source": [
    "__Задача 3__\n",
    "\n",
    "Семь человек рассаживаются наудачу на скамейке. Какова вероятность того, что два определённых человека будут сидеть рядом?"
   ]
  },
  {
   "cell_type": "code",
   "execution_count": 15,
   "metadata": {},
   "outputs": [
    {
     "name": "stdout",
     "output_type": "stream",
     "text": [
      "0.2857142857142857\n"
     ]
    }
   ],
   "source": [
    "#Всего 6 пар мест, на каждую пару мест наша пара людей может сесть 2мя способами (т.е. всего 12 способов ), остальные 5 человек могут сесть 5! способами.\n",
    "#Всего 7 мест и 7! способов посадки\n",
    "P = 6*2*np.math.factorial(5) / np.math.factorial(7)\n",
    "print(P)"
   ]
  },
  {
   "cell_type": "markdown",
   "metadata": {},
   "source": [
    "__Задача 4__\n",
    "\n",
    "Из 60 вопросов, входящих в экзаменационные билеты, студент знает 50. Какова вероятность того, что среди трёх наугад выбранных вопросов студент знает: а) все? б) два?"
   ]
  },
  {
   "cell_type": "code",
   "execution_count": 16,
   "metadata": {},
   "outputs": [
    {
     "name": "stdout",
     "output_type": "stream",
     "text": [
      "34220\n"
     ]
    }
   ],
   "source": [
    "#Общее число комбинаций выбрать из 60 билетов 3\n",
    "C = combinations(60, 3)\n",
    "print(C)"
   ]
  },
  {
   "cell_type": "code",
   "execution_count": 20,
   "metadata": {},
   "outputs": [
    {
     "name": "stdout",
     "output_type": "stream",
     "text": [
      "19600\n",
      "0.5727644652250146\n"
     ]
    }
   ],
   "source": [
    "#а) студент знает все билеты\n",
    "C_a = combinations(50,3)\n",
    "#Вероятность\n",
    "P_a = C_a/C\n",
    "print(C_a)\n",
    "print(P_a)"
   ]
  },
  {
   "cell_type": "code",
   "execution_count": 22,
   "metadata": {},
   "outputs": [
    {
     "name": "stdout",
     "output_type": "stream",
     "text": [
      "12250\n",
      "0.35797779076563413\n"
     ]
    }
   ],
   "source": [
    "#б) Два билета знает, один нет\n",
    "C_b = combinations(50,2) * combinations(10,1)\n",
    "P_b = C_b/C\n",
    "print(C_b)\n",
    "print(P_b)"
   ]
  },
  {
   "cell_type": "markdown",
   "metadata": {},
   "source": [
    "__Задача 5__\n",
    "\n",
    "Бросается игральная кость. Пусть событие `A` - появление чётного числа, событие `B` - появление числа больше трёх. Являются ли эти события независимыми?"
   ]
  },
  {
   "cell_type": "code",
   "execution_count": 25,
   "metadata": {},
   "outputs": [
    {
     "name": "stdout",
     "output_type": "stream",
     "text": [
      "0.6666666666666666\n"
     ]
    }
   ],
   "source": [
    "#События независимы, если P(B|A) = P(B)\n",
    "\n",
    "#P(A|B) уже произошло событие B, тогда вероятность события А (четные числа 4, 6 из числе 4,5,6)\n",
    "P_a_b = 2/3\n",
    "#Вероятность события B (3 числа больше 3х из 6)\n",
    "P_b = 3/6\n",
    "#Вероятность события А (3 четных числа из 6)\n",
    "P_a = 3/6\n",
    "P_b_a = P_a_b*P_b/P_a\n",
    "print(P_b_a)\n",
    "#События зависимы, поскольку наступление одного изменяет вероятность \n",
    "#наступления другого события\n",
    "#Совместные события, т.к. число больше 3х может быть четным"
   ]
  },
  {
   "cell_type": "markdown",
   "metadata": {},
   "source": [
    "__Задача 6__\n",
    "\n",
    "Допустим, имеется некоторая очень редкая болезнь (поражает 0.1 % населения). Вы приходите к врачу, вам делают тест на эту болезнь, и тест оказывается положительным. Врач говорит вам, что этот тест верно выявляет 99 % больных этой болезнью и всего лишь в 1 % случаев даёт ложный положительный ответ.\n",
    "\n",
    "_Вопрос_: какова вероятность, что вы действительно больны ей?\n",
    "\n",
    "_Подсказка_: вновь используйте формулу Байеса с раскрытием знаменателя с помощью формулы полной вероятности.\n"
   ]
  },
  {
   "cell_type": "code",
   "execution_count": 26,
   "metadata": {},
   "outputs": [
    {
     "name": "stdout",
     "output_type": "stream",
     "text": [
      "0.09016393442622951\n"
     ]
    }
   ],
   "source": [
    "#Полная вероятность события \"тест положительный\"\n",
    "#P(+) = P(+|болен)*P(болен) + P(+|здоров)*P(здоров) = 0.99*0.001 + 0.01*0.999\n",
    "#Вероятность события \"болен\"\n",
    "#P(болен) = 0.001\n",
    "#Вероятность события \"+ при условии \"болен\"\n",
    "#P(+|болен) = 0.99\n",
    "P_plus = 0.99*0.001+0.01*0.999\n",
    "P_bolen = 0.001\n",
    "P_plus_bolen = 0.99\n",
    "#Вероятноть, что больны при наличии положительного теста\n",
    "P = P_plus_bolen * P_bolen / P_plus\n",
    "print(P)"
   ]
  }
 ],
 "metadata": {
  "kernelspec": {
   "display_name": "Python 3",
   "language": "python",
   "name": "python3"
  },
  "language_info": {
   "codemirror_mode": {
    "name": "ipython",
    "version": 3
   },
   "file_extension": ".py",
   "mimetype": "text/x-python",
   "name": "python",
   "nbconvert_exporter": "python",
   "pygments_lexer": "ipython3",
   "version": "3.7.1"
  }
 },
 "nbformat": 4,
 "nbformat_minor": 2
}
